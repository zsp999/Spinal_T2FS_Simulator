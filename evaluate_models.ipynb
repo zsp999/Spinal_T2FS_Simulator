{
 "cells": [
  {
   "cell_type": "code",
   "execution_count": null,
   "id": "0a14fe6e",
   "metadata": {},
   "outputs": [],
   "source": [
    "# Evaluation script for trained MMGSN and Pix2Pix models\n",
    "# This script loads pre-trained models and generates synthetic images on test data\n",
    "import os\n",
    "os.environ[\"CUDA_VISIBLE_DEVICES\"] = \"2\" \n",
    "import numpy as np\n",
    "import pandas as pd\n",
    "import matplotlib.pyplot as plt\n",
    "import seaborn as sns\n",
    "import random\n",
    "import os\n",
    "import datetime\n",
    "import time\n",
    "from tqdm import tqdm\n",
    "from PIL import Image\n",
    "\n",
    "import torch\n",
    "import torch.nn as nn\n",
    "\n",
    "from torch import optim\n",
    "from torch.utils.data import Dataset, DataLoader\n",
    "import sys \n",
    "sys.path.append(\"..\") \n",
    "from utils.dataset_png import *\n",
    "from model.MMGSN_new.syn_model_2D_T2FS import *\n",
    "from utils.test_metrics_2D import *\n",
    "from utils.FolderDataLoader import *\n",
    "from utils.metrics_calculate_2D import *\n",
    "\n",
    "from time import time\n",
    "print(torch.cuda.device_count()) "
   ]
  },
  {
   "cell_type": "code",
   "execution_count": null,
   "id": "994d4a66",
   "metadata": {},
   "outputs": [],
   "source": [
    "# Load pre-trained models for comparison\n",
    "\n",
    "model_STS = torch.load(\"/your/path/MRI_SYNS/model_save/STS_foldAll.pt\", map_location='cpu')['model']\n",
    "\n",
    "# model_pix2pix = torch.load(\"/your/path/MRI_SYNS/model_save/pix2pix_foldAll.pt\", map_location='cpu')['model']\n",
    "\n",
    "device = 'cuda:0'\n",
    "spinal_test_dir = \"/your/path/MRI_SYNS/Data/your_regis_imgdata\" # Test dataset path\n"
   ]
  },
  {
   "cell_type": "code",
   "execution_count": null,
   "id": "07f350b3",
   "metadata": {},
   "outputs": [],
   "source": [
    "@torch.no_grad()\n",
    "def Test_model_patients( spinal_test_dir, model_img, device='cuda:0'):\n",
    "    test_patients_dataset = MRI_2Dpng_Dataset(data_dirpath=spinal_test_dir, transform=test_2Dpng_transforms)\n",
    "    test_dataloader = DataLoader(test_patients_dataset, batch_size=128, shuffle=False, num_workers=32, pin_memory=True)\n",
    "\n",
    "    model_img.to(device)\n",
    "    model_img.eval()\n",
    "\n",
    "    start_time = time()\n",
    "    for batch_data in tqdm(test_dataloader):\n",
    "        input_img, target_img = batch_data[:,:2,:,:].to(device), batch_data[:,2:3,:,:].cpu().detach()\n",
    "\n",
    "        fake_img = model_img(input_img.to(device)).squeeze(dim=1)\n",
    "        fake_img = norm_layerHW(fake_img.detach().cpu().numpy(), method='8bit')\n",
    "\n",
    "\n",
    "    allocated_memory = torch.cuda.max_memory_allocated(device)\n",
    "    reserved_memory = torch.cuda.max_memory_reserved(device)\n",
    "\n",
    "    print(f\"已分配显存: {allocated_memory / (1024 ** 2):.2f} MB\")\n",
    "    print(f\"保留显存: {reserved_memory / (1024 ** 2):.2f} MB\")\n",
    "    end_time = time()\n",
    "    print(end_time - start_time)\n"
   ]
  },
  {
   "cell_type": "code",
   "execution_count": null,
   "id": "63cbf0c7",
   "metadata": {},
   "outputs": [],
   "source": [
    "Test_model_patients(spinal_test_dir, model_img=model_STS, device='cuda:0')\n",
    "\n",
    "# Test_model_patients(spinal_test_dir, model_img=model_pix2pix, device='cuda:0')"
   ]
  },
  {
   "cell_type": "code",
   "execution_count": null,
   "id": "fed4250f",
   "metadata": {},
   "outputs": [],
   "source": [
    "# Process images individually and save pictures for each patient.\n",
    "@torch.no_grad()\n",
    "def Test_model_onepatient(output_path, spinal_test_dir, model_img, device='cuda:1'):\n",
    "    if output_path !=None:\n",
    "        os.makedirs(output_path, exist_ok=True)  \n",
    "    test_onepatient_dataset = MRI_2Dpng_Dataset(data_dirpath=spinal_test_dir, transform=test_2Dpng_transforms)\n",
    "\n",
    "    model_img.to(device)\n",
    "    model_img.eval()\n",
    "\n",
    "    start_time = time()\n",
    "    for i in tqdm(range(len(test_onepatient_dataset))):\n",
    "  \n",
    "        input_img = test_onepatient_dataset[i][0:2,:,:].unsqueeze(0).to(device)  # [1, 2, H, W]\n",
    "        target_img = test_onepatient_dataset[i][2:3,:,:].unsqueeze(0)  # [1, 1, H, W]\n",
    "\n",
    "        fake_img = model_img(input_img.to(device)).squeeze(dim=1)\n",
    "        fake_img = norm_layerHW(fake_img.detach().cpu().numpy(), method='8bit')\n",
    "\n",
    "        target_img = (255*(target_img.squeeze().cpu().numpy() +1)/2).astype(np.uint8)\n",
    "        # Concatenate ground truth and generated image for easy visual comparison\n",
    "        img_pred = Image.fromarray(np.concatenate([\n",
    "            np.transpose(target_img),\n",
    "            np.transpose(fake_img[0,:,:])  \n",
    "        ], axis=-1))\n",
    "        # Create descriptive filename: patientID@true_modelname@disease_layer\n",
    "        if output_path !=None:\n",
    "            patient_save_path = os.path.join(output_path, test_onepatient_dataset.fnames[i].split('@')[-4])\n",
    "            os.makedirs(patient_save_path, exist_ok=True)\n",
    "            i_savepath_pred = os.path.join(patient_save_path, test_onepatient_dataset.fnames[i].split('@')[-4]+'@true_STS@'+test_onepatient_dataset.fnames[i].split('@')[-1])\n",
    "            img_pred.save(i_savepath_pred)\n",
    "\n",
    "        # 显存清理\n",
    "        # del input_img, target_img, fake_img\n",
    "        # torch.cuda.empty_cache()\n",
    "    end_time = time()\n",
    "    print(end_time - start_time)"
   ]
  },
  {
   "cell_type": "code",
   "execution_count": null,
   "id": "65d5715c",
   "metadata": {},
   "outputs": [],
   "source": [
    "output_path = \"/your/path/Spinal_T2FS_Simulator/results_mmgsn_internal_test\"\n",
    "Test_model_onepatient(output_path, spinal_test_dir, model_img=model_STS,device='cuda:0')\n",
    "\n",
    "# output_path = \"/your/path/MRI_SYNS/results_pix2pix_internal\"\n",
    "# Test_model_onepatient(output_path, spinal_test_dir, model_img=model_pix2pix,device='cuda:0')"
   ]
  }
 ],
 "metadata": {
  "kernelspec": {
   "display_name": "py311_cv",
   "language": "python",
   "name": "python3"
  },
  "language_info": {
   "codemirror_mode": {
    "name": "ipython",
    "version": 3
   },
   "file_extension": ".py",
   "mimetype": "text/x-python",
   "name": "python",
   "nbconvert_exporter": "python",
   "pygments_lexer": "ipython3",
   "version": "3.11.9"
  }
 },
 "nbformat": 4,
 "nbformat_minor": 5
}
